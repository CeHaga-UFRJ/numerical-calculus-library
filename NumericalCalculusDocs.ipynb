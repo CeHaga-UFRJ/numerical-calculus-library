{
 "cells": [
  {
   "cell_type": "markdown",
   "metadata": {},
   "source": [
    "# Biblioteca de Cálculo Numérico\n",
    "\n",
    "Nome: DRE\n",
    "\n",
    "Essa é uma biblioteca ... disciplina calcnum ... aqui vai ter explicações e exemplos do nosso código show"
   ]
  },
  {
   "cell_type": "markdown",
   "metadata": {},
   "source": [
    "## 1. Aproximação de valor\n",
    "\n",
    "A aproximação de valor aproxima valor ... usamos métodos muito legais como ... talvez eu esteja enrolando um pouco"
   ]
  },
  {
   "cell_type": "markdown",
   "metadata": {},
   "source": [
    "### Exemplo 1.1\n",
    "Vamos aproximar $f(3)$ com $f(x) = 0$"
   ]
  },
  {
   "cell_type": "code",
   "execution_count": 2,
   "metadata": {},
   "outputs": [
    {
     "name": "stdout",
     "output_type": "stream",
     "text": [
      "0\n"
     ]
    }
   ],
   "source": [
    "# Exemplo 1.1\n",
    "println(0)"
   ]
  }
 ],
 "metadata": {
  "kernelspec": {
   "display_name": "Julia 1.6.3",
   "language": "julia",
   "name": "julia-1.6"
  },
  "language_info": {
   "file_extension": ".jl",
   "mimetype": "application/julia",
   "name": "julia",
   "version": "1.6.3"
  },
  "orig_nbformat": 4
 },
 "nbformat": 4,
 "nbformat_minor": 2
}
