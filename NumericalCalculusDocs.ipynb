{
 "cells": [
  {
   "cell_type": "markdown",
   "metadata": {},
   "source": [
    "# Biblioteca de Cálculo Numérico\n",
    "\n",
    "Integrantes do trio:\n",
    "* Carlos Bravo: 119136241\n",
    "* Gabrielly: X\n",
    "* Markson: X\n",
    "\n",
    "Essa é uma biblioteca ... disciplina calcnum ... aqui vai ter explicações e exemplos do nosso código show"
   ]
  },
  {
   "cell_type": "code",
   "execution_count": 3,
   "metadata": {},
   "outputs": [],
   "source": [
    "include(\"NumericalCalculus.jl\");"
   ]
  },
  {
   "cell_type": "markdown",
   "metadata": {},
   "source": [
    "## 1. Aproximação de valor\n",
    "\n",
    "A aproximação de valor aproxima valor ... usamos métodos muito legais como ... talvez eu esteja enrolando um pouco"
   ]
  },
  {
   "cell_type": "markdown",
   "metadata": {},
   "source": [
    "### Exemplo 1.1\n",
    "Vamos aproximar $f(3)$ com $f(x) = 0$"
   ]
  },
  {
   "cell_type": "code",
   "execution_count": 2,
   "metadata": {},
   "outputs": [
    {
     "name": "stdout",
     "output_type": "stream",
     "text": [
      "0\n"
     ]
    }
   ],
   "source": [
    "# Exemplo 1.1\n",
    "println(0)"
   ]
  },
  {
   "cell_type": "markdown",
   "metadata": {},
   "source": [
    "## ?. Decomposição LU\n",
    "\n",
    "Dada uma matriz quadrada $A$ de tamanho $(n,n)$, é possível realizar sua decomposição LU. A decomposição consiste em uma matriz $L$ triangular inferior e uma matriz $U$ triangular superior tal que $A=LU$. O método _lu\\_decomposition(matrix)_ recebe uma matriz $A$ e retorna as matrizes $L$ e $U$ de sua decomposição."
   ]
  },
  {
   "cell_type": "markdown",
   "metadata": {},
   "source": [
    "### Exemplos"
   ]
  },
  {
   "cell_type": "code",
   "execution_count": 15,
   "metadata": {},
   "outputs": [
    {
     "data": {
      "text/plain": [
       "3×3 Matrix{Float64}:\n",
       " 1.0  0.0  0.0\n",
       " 0.0  1.0  0.0\n",
       " 0.0  0.0  1.0"
      ]
     },
     "metadata": {},
     "output_type": "display_data"
    },
    {
     "data": {
      "text/plain": [
       "3×3 Matrix{Float64}:\n",
       " 1.0  0.0  0.0\n",
       " 0.0  2.0  0.0\n",
       " 0.0  0.0  4.0"
      ]
     },
     "metadata": {},
     "output_type": "display_data"
    },
    {
     "data": {
      "text/plain": [
       "3×3 Matrix{Float64}:\n",
       " 1.0  0.0  0.0\n",
       " 0.0  2.0  0.0\n",
       " 0.0  0.0  4.0"
      ]
     },
     "metadata": {},
     "output_type": "display_data"
    }
   ],
   "source": [
    "# Exemplo 1: Matriz diagonal\n",
    "\n",
    "A = Float64.([\n",
    "    1 0 0;\n",
    "    0 2 0;\n",
    "    0 0 4;\n",
    "])\n",
    "\n",
    "L, U = lu_decomposition(A)\n",
    "display(L)\n",
    "display(U)\n",
    "display(L*U)\n",
    "@assert(norm(L*U - A) < 1e-15)"
   ]
  },
  {
   "cell_type": "code",
   "execution_count": 17,
   "metadata": {},
   "outputs": [
    {
     "data": {
      "text/plain": [
       "3×3 Matrix{Float64}:\n",
       " 1.0  0.0  0.0\n",
       " 5.0  1.0  0.0\n",
       " 8.0  0.5  1.0"
      ]
     },
     "metadata": {},
     "output_type": "display_data"
    },
    {
     "data": {
      "text/plain": [
       "3×3 Matrix{Float64}:\n",
       " 1.0  0.0  0.0\n",
       " 0.0  2.0  0.0\n",
       " 0.0  0.0  4.0"
      ]
     },
     "metadata": {},
     "output_type": "display_data"
    },
    {
     "data": {
      "text/plain": [
       "3×3 Matrix{Float64}:\n",
       " 1.0  0.0  0.0\n",
       " 5.0  2.0  0.0\n",
       " 8.0  1.0  4.0"
      ]
     },
     "metadata": {},
     "output_type": "display_data"
    }
   ],
   "source": [
    "# Exemplo 2: Matriz triangular inferior\n",
    "\n",
    "A = Float64.([\n",
    "    1 0 0;\n",
    "    5 2 0;\n",
    "    8 1 4;\n",
    "])\n",
    "\n",
    "L, U = lu_decomposition(A)\n",
    "display(L)\n",
    "display(U)\n",
    "display(L*U)\n",
    "@assert(norm(L*U - A) < 1e-15)"
   ]
  },
  {
   "cell_type": "code",
   "execution_count": 18,
   "metadata": {},
   "outputs": [
    {
     "data": {
      "text/plain": [
       "3×3 Matrix{Float64}:\n",
       " 1.0  0.0  0.0\n",
       " 0.0  1.0  0.0\n",
       " 0.0  0.0  1.0"
      ]
     },
     "metadata": {},
     "output_type": "display_data"
    },
    {
     "data": {
      "text/plain": [
       "3×3 Matrix{Float64}:\n",
       " 1.0  7.0  2.0\n",
       " 0.0  2.0  9.0\n",
       " 0.0  0.0  4.0"
      ]
     },
     "metadata": {},
     "output_type": "display_data"
    },
    {
     "data": {
      "text/plain": [
       "3×3 Matrix{Float64}:\n",
       " 1.0  7.0  2.0\n",
       " 0.0  2.0  9.0\n",
       " 0.0  0.0  4.0"
      ]
     },
     "metadata": {},
     "output_type": "display_data"
    }
   ],
   "source": [
    "# Exemplo 3: Matriz triangular superior\n",
    "\n",
    "A = Float64.([\n",
    "    1 7 2;\n",
    "    0 2 9;\n",
    "    0 0 4;\n",
    "])\n",
    "\n",
    "L, U = lu_decomposition(A)\n",
    "display(L)\n",
    "display(U)\n",
    "display(L*U)\n",
    "@assert(norm(L*U - A) < 1e-15)"
   ]
  },
  {
   "cell_type": "code",
   "execution_count": 19,
   "metadata": {},
   "outputs": [
    {
     "data": {
      "text/plain": [
       "3×3 Matrix{Float64}:\n",
       " 1.0  0.0    0.0\n",
       " 5.0  1.0    0.0\n",
       " 8.0  1.875  1.0"
      ]
     },
     "metadata": {},
     "output_type": "display_data"
    },
    {
     "data": {
      "text/plain": [
       "3×3 Matrix{Float64}:\n",
       " 1.0   2.0   3.0\n",
       " 0.0  -8.0  -6.0\n",
       " 0.0   0.0  -8.75"
      ]
     },
     "metadata": {},
     "output_type": "display_data"
    },
    {
     "data": {
      "text/plain": [
       "3×3 Matrix{Float64}:\n",
       " 1.0  2.0  3.0\n",
       " 5.0  2.0  9.0\n",
       " 8.0  1.0  4.0"
      ]
     },
     "metadata": {},
     "output_type": "display_data"
    }
   ],
   "source": [
    "# Exemplo 4: Matriz densa\n",
    "\n",
    "A = Float64.([\n",
    "    1 2 3;\n",
    "    5 2 9;\n",
    "    8 1 4;\n",
    "])\n",
    "\n",
    "L, U = lu_decomposition(A)\n",
    "display(L)\n",
    "display(U)\n",
    "display(L*U)\n",
    "@assert(norm(L*U - A) < 1e-15)"
   ]
  },
  {
   "cell_type": "markdown",
   "metadata": {},
   "source": [
    "## ?. Derivada contínua"
   ]
  },
  {
   "cell_type": "code",
   "execution_count": 1,
   "metadata": {},
   "outputs": [
    {
     "data": {
      "text/plain": [
       "continuous_derivative (generic function with 2 methods)"
      ]
     },
     "execution_count": 1,
     "metadata": {},
     "output_type": "execute_result"
    }
   ],
   "source": [
    "function continuous_derivative(f, x, h, option=:center)\n",
    "    @assert(option == :front || option == :back || option == :center, \"Opcao invalida, entre com :front, :back ou :center\")\n",
    "    if(option == :front) return (f(x+h) - f(x))/h end\n",
    "    if(option == :back) return (f(x) - f(x-h))/h end\n",
    "    if(option == :center) return (f(x+h) - f(x-h))/2h end\n",
    "end"
   ]
  },
  {
   "cell_type": "code",
   "execution_count": 8,
   "metadata": {},
   "outputs": [
    {
     "ename": "LoadError",
     "evalue": "AssertionError: Invalid option, possible options are: :front, :back, and :center",
     "output_type": "error",
     "traceback": [
      "AssertionError: Invalid option, possible options are: :front, :back, and :center",
      "",
      "Stacktrace:",
      " [1] continuous_derivative(f::typeof(f), x::Int64, h::Float64, option::Symbol)",
      "   @ Main ~/Documentos/ufrj/numerical-calculus-library/NumericalCalculus.jl:75",
      " [2] top-level scope",
      "   @ In[8]:2",
      " [3] eval",
      "   @ ./boot.jl:360 [inlined]",
      " [4] include_string(mapexpr::typeof(REPL.softscope), mod::Module, code::String, filename::String)",
      "   @ Base ./loading.jl:1116"
     ]
    }
   ],
   "source": [
    "f(x) = x^2\n",
    "continuous_derivative(f, 2, 1e-2, :fsdfront)"
   ]
  }
 ],
 "metadata": {
  "kernelspec": {
   "display_name": "Julia 1.6.3",
   "language": "julia",
   "name": "julia-1.6"
  },
  "language_info": {
   "file_extension": ".jl",
   "mimetype": "application/julia",
   "name": "julia",
   "version": "1.6.3"
  }
 },
 "nbformat": 4,
 "nbformat_minor": 4
}
